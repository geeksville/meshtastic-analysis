{
 "cells": [
  {
   "cell_type": "markdown",
   "id": "b322f295-34af-4008-9424-43ce955c5ab3",
   "metadata": {},
   "source": [
    "# Meshtastic analysis experiments/reports \n",
    "\n",
    "To run:\n",
    "\n",
    "* poetry install --with=analysis\n",
    "* poe jyupyter"
   ]
  },
  {
   "cell_type": "code",
   "execution_count": 1,
   "id": "79552fe2-a7e2-4931-a24c-47f62949c9a7",
   "metadata": {},
   "outputs": [],
   "source": [
    "import meshtastic\n",
    "import pyarrow.feather as feather"
   ]
  },
  {
   "cell_type": "code",
   "execution_count": 2,
   "id": "b0e84dda-794a-4218-8c23-ee6ab4a56d40",
   "metadata": {},
   "outputs": [],
   "source": [
    "# sdir = '/home/kevinh/.local/share/meshtastic/slogs/20240626-152804'\n",
    "sdir = '/home/kevinh/.local/share/meshtastic/slogs/latest'\n",
    "dpwr = feather.read_table(f'{sdir}/power.feather').to_pandas()\n",
    "# dslog = feather.read_table(f'{sdir}/slog.feather').to_pandas()"
   ]
  },
  {
   "cell_type": "code",
   "execution_count": 3,
   "id": "c893ce77-7233-4558-be03-79442a5ebdec",
   "metadata": {},
   "outputs": [
    {
     "data": {
      "text/html": [
       "<div>\n",
       "<style scoped>\n",
       "    .dataframe tbody tr th:only-of-type {\n",
       "        vertical-align: middle;\n",
       "    }\n",
       "\n",
       "    .dataframe tbody tr th {\n",
       "        vertical-align: top;\n",
       "    }\n",
       "\n",
       "    .dataframe thead th {\n",
       "        text-align: right;\n",
       "    }\n",
       "</style>\n",
       "<table border=\"1\" class=\"dataframe\">\n",
       "  <thead>\n",
       "    <tr style=\"text-align: right;\">\n",
       "      <th></th>\n",
       "      <th>time</th>\n",
       "      <th>average_mW</th>\n",
       "      <th>max_mW</th>\n",
       "      <th>min_mW</th>\n",
       "    </tr>\n",
       "  </thead>\n",
       "  <tbody>\n",
       "    <tr>\n",
       "      <th>0</th>\n",
       "      <td>2024-06-26 16:41:54.128203</td>\n",
       "      <td>1.558931</td>\n",
       "      <td>1.987346</td>\n",
       "      <td>-0.000900</td>\n",
       "    </tr>\n",
       "    <tr>\n",
       "      <th>1</th>\n",
       "      <td>2024-06-26 16:41:54.333492</td>\n",
       "      <td>1.883926</td>\n",
       "      <td>2.000648</td>\n",
       "      <td>1.784251</td>\n",
       "    </tr>\n",
       "    <tr>\n",
       "      <th>2</th>\n",
       "      <td>2024-06-26 16:41:54.533642</td>\n",
       "      <td>1.886594</td>\n",
       "      <td>2.013956</td>\n",
       "      <td>1.784251</td>\n",
       "    </tr>\n",
       "    <tr>\n",
       "      <th>3</th>\n",
       "      <td>2024-06-26 16:41:54.738893</td>\n",
       "      <td>1.889409</td>\n",
       "      <td>2.009519</td>\n",
       "      <td>1.757879</td>\n",
       "    </tr>\n",
       "    <tr>\n",
       "      <th>4</th>\n",
       "      <td>2024-06-26 16:41:54.939203</td>\n",
       "      <td>1.890942</td>\n",
       "      <td>1.987346</td>\n",
       "      <td>1.779853</td>\n",
       "    </tr>\n",
       "  </tbody>\n",
       "</table>\n",
       "</div>"
      ],
      "text/plain": [
       "                        time  average_mW    max_mW    min_mW\n",
       "0 2024-06-26 16:41:54.128203    1.558931  1.987346 -0.000900\n",
       "1 2024-06-26 16:41:54.333492    1.883926  2.000648  1.784251\n",
       "2 2024-06-26 16:41:54.533642    1.886594  2.013956  1.784251\n",
       "3 2024-06-26 16:41:54.738893    1.889409  2.009519  1.757879\n",
       "4 2024-06-26 16:41:54.939203    1.890942  1.987346  1.779853"
      ]
     },
     "execution_count": 3,
     "metadata": {},
     "output_type": "execute_result"
    }
   ],
   "source": [
    "dpwr.head()"
   ]
  },
  {
   "cell_type": "code",
   "execution_count": 4,
   "id": "6a85c75c-2c39-46ce-ada1-97230a6aae7f",
   "metadata": {},
   "outputs": [],
   "source": [
    "# dslog.head()"
   ]
  },
  {
   "cell_type": "code",
   "execution_count": 5,
   "id": "85586d95-563e-4bcf-b966-9990afb67174",
   "metadata": {},
   "outputs": [
    {
     "data": {
      "text/html": [
       "\n",
       "        <iframe\n",
       "            width=\"100%\"\n",
       "            height=\"650\"\n",
       "            src=\"http://127.0.0.1:8050/\"\n",
       "            frameborder=\"0\"\n",
       "            allowfullscreen\n",
       "            \n",
       "        ></iframe>\n",
       "        "
      ],
      "text/plain": [
       "<IPython.lib.display.IFrame at 0x7d58b9be89b0>"
      ]
     },
     "metadata": {},
     "output_type": "display_data"
    }
   ],
   "source": [
    "from dash import Dash, html, dcc, callback, Output, Input, dash_table\n",
    "import plotly.express as px\n",
    "import plotly.graph_objects as go\n",
    "import pandas as pd\n",
    "\n",
    "app = Dash()\n",
    "\n",
    "def set_legend(f, name):\n",
    "    f['data'][0]['showlegend']=True\n",
    "    f['data'][0]['name']=name\n",
    "    return f\n",
    "\n",
    "df = dpwr\n",
    "avg_pwr_lines = px.line(df, x='time', y='average_mW').update_traces(line_color='red')\n",
    "set_legend(avg_pwr_lines, \"avg power\")\n",
    "max_pwr_points = px.scatter(df, x='time', y='max_mW').update_traces(marker_color='blue')\n",
    "set_legend(max_pwr_points, \"max power\")\n",
    "min_pwr_points = px.scatter(df, x='time', y='min_mW').update_traces(marker_color='green')\n",
    "set_legend(min_pwr_points, \"min power\")\n",
    "\n",
    "# fig = avg_pwr_lines\n",
    "# fig.add_trace(max_pwr_points)\n",
    "fig = go.Figure(data=min_pwr_points.data + max_pwr_points.data + avg_pwr_lines.data)\n",
    "\n",
    "fig.update_layout(legend=dict(\n",
    "    yanchor=\"top\",\n",
    "    y=0.99,\n",
    "    xanchor=\"left\",\n",
    "    x=0.01\n",
    "))\n",
    "\n",
    "# App layout\n",
    "app.layout = [\n",
    "    html.Div(children='Test Plottly with power consumption'),\n",
    "    # dash_table.DataTable(data=df.to_dict('records'), page_size=10),\n",
    "    dcc.Graph(figure=fig)\n",
    "]\n",
    "\n",
    "\n",
    "if __name__ == '__main__':\n",
    "    app.run(debug=True)"
   ]
  },
  {
   "cell_type": "code",
   "execution_count": null,
   "id": "ec11e656-2b4e-434d-bd3f-dffa467ca3bf",
   "metadata": {},
   "outputs": [],
   "source": []
  }
 ],
 "metadata": {
  "kernelspec": {
   "display_name": "Python 3 (ipykernel)",
   "language": "python",
   "name": "python3"
  },
  "language_info": {
   "codemirror_mode": {
    "name": "ipython",
    "version": 3
   },
   "file_extension": ".py",
   "mimetype": "text/x-python",
   "name": "python",
   "nbconvert_exporter": "python",
   "pygments_lexer": "ipython3",
   "version": "3.12.3"
  }
 },
 "nbformat": 4,
 "nbformat_minor": 5
}
